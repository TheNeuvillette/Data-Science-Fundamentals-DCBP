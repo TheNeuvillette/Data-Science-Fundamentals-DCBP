{
  "nbformat": 4,
  "nbformat_minor": 0,
  "metadata": {
    "colab": {
      "name": "CodingTask1.ipynb",
      "provenance": [],
      "include_colab_link": true
    },
    "kernelspec": {
      "name": "python3",
      "display_name": "Python 3"
    },
    "language_info": {
      "name": "python"
    }
  },
  "cells": [
    {
      "cell_type": "markdown",
      "metadata": {
        "id": "view-in-github",
        "colab_type": "text"
      },
      "source": [
        "<a href=\"https://colab.research.google.com/github/TheNeuvillette/Data-Science-Fundamentals-DCBP/blob/main/Half-semester%20Project/Midterm%20Project%20-%20Part%208%20-%20Requirements.txt.ipynb\" target=\"_parent\"><img src=\"https://colab.research.google.com/assets/colab-badge.svg\" alt=\"Open In Colab\"/></a>"
      ]
    },
    {
      "cell_type": "markdown",
      "source": [
        "#Mid-term project - Part 8: Requirements.txt"
      ],
      "metadata": {
        "id": "uMiNEBDvl4bC"
      }
    },
    {
      "cell_type": "markdown",
      "source": [
        "List of modules needed to download for the Program to function"
      ],
      "metadata": {
        "id": "KgSbw5gGl9Np"
      }
    },
    {
      "cell_type": "code",
      "source": [
        "absl-py==2.1.0\n",
        "appnope==0.1.4\n",
        "asttokens==2.4.1\n",
        "astunparse==1.6.3\n",
        "certifi==2024.2.2\n",
        "charset-normalizer==3.3.2\n",
        "comm==0.2.2\n",
        "contourpy==1.2.0\n",
        "cycler==0.12.1\n",
        "debugpy==1.8.1\n",
        "decorator==5.1.1\n",
        "exceptiongroup==1.2.0\n",
        "executing==2.0.1\n",
        "flatbuffers==24.3.25\n",
        "fonttools==4.50.0\n",
        "gast==0.5.4\n",
        "google-pasta==0.2.0\n",
        "grpcio==1.62.1\n",
        "h5py==3.10.0\n",
        "idna==3.6\n",
        "importlib_metadata==7.1.0\n",
        "importlib_resources==6.4.0\n",
        "ipykernel==6.29.4\n",
        "ipython==8.18.1\n",
        "jedi==0.19.1\n",
        "joblib==1.3.2\n",
        "jupyter_client==8.6.1\n",
        "jupyter_core==5.7.2\n",
        "keras==3.1.1\n",
        "kiwisolver==1.4.5\n",
        "libclang==18.1.1\n",
        "Markdown==3.6\n",
        "markdown-it-py==3.0.0\n",
        "MarkupSafe==2.1.5\n",
        "matplotlib==3.8.3\n",
        "matplotlib-inline==0.1.6\n",
        "mdurl==0.1.2\n",
        "ml-dtypes==0.3.2\n",
        "namex==0.0.7\n",
        "nest-asyncio==1.6.0\n",
        "numpy==1.26.4\n",
        "nvidia-cublas-cu12==12.4.5.8\n",
        "nvidia-cuda-runtime-cu12==12.4.127\n",
        "nvidia-cudnn-cu12==9.0.0.312\n",
        "opt-einsum==3.3.0\n",
        "optree==0.11.0\n",
        "packaging==24.0\n",
        "pandas==2.2.1\n",
        "parso==0.8.3\n",
        "pexpect==4.9.0\n",
        "pillow==10.2.0\n",
        "platformdirs==4.2.0\n",
        "prompt-toolkit==3.0.43\n",
        "protobuf==4.25.3\n",
        "psutil==5.9.8\n",
        "ptyprocess==0.7.0\n",
        "pure-eval==0.2.2\n",
        "Pygments==2.17.2\n",
        "pyparsing==3.1.2\n",
        "python-dateutil==2.9.0.post0\n",
        "pytz==2024.1\n",
        "pyzmq==25.1.2\n",
        "rdkit==2023.9.5\n",
        "requests==2.31.0\n",
        "rich==13.7.1\n",
        "scikit-learn==1.4.1.post1\n",
        "scipy==1.12.0\n",
        "seaborn==0.13.2\n",
        "six==1.16.0\n",
        "stack-data==0.6.3\n",
        "tensorboard==2.16.2\n",
        "tensorboard-data-server==0.7.2\n",
        "tensorflow==2.16.1\n",
        "tensorflow-io-gcs-filesystem==0.36.0\n",
        "tensorrt==8.6.1.post1\n",
        "tensorrt-bindings==8.6.1\n",
        "tensorrt-libs==8.6.1\n",
        "termcolor==2.4.0\n",
        "threadpoolctl==3.4.0\n",
        "tornado==6.4\n",
        "traitlets==5.14.2\n",
        "typing_extensions==4.10.0\n",
        "tzdata==2024.1\n",
        "urllib3==2.2.1\n",
        "wcwidth==0.2.13\n",
        "Werkzeug==3.0.1\n",
        "wrapt==1.16.0\n",
        "zipp==3.18.1"
      ],
      "metadata": {
        "id": "o0E0OKkSmB1c"
      },
      "execution_count": null,
      "outputs": []
    }
  ]
}