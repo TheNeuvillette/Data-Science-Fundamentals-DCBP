{
  "nbformat": 4,
  "nbformat_minor": 0,
  "metadata": {
    "colab": {
      "name": "CodingTask1.ipynb",
      "provenance": [],
      "include_colab_link": true
    },
    "kernelspec": {
      "name": "python3",
      "display_name": "Python 3"
    },
    "language_info": {
      "name": "python"
    }
  },
  "cells": [
    {
      "cell_type": "markdown",
      "metadata": {
        "id": "view-in-github",
        "colab_type": "text"
      },
      "source": [
        "<a href=\"https://colab.research.google.com/github/TheNeuvillette/Data-Science-Fundamentals-DCBP/blob/main/Half-semester%20Project/Midterm%20Project%20-%20Part%208%20-%20Requirements.txt.ipynb\" target=\"_parent\"><img src=\"https://colab.research.google.com/assets/colab-badge.svg\" alt=\"Open In Colab\"/></a>"
      ]
    },
    {
      "cell_type": "markdown",
      "source": [
        "#Mid-term project - Part 8: Requirements.txt"
      ],
      "metadata": {
        "id": "uMiNEBDvl4bC"
      }
    },
    {
      "cell_type": "markdown",
      "source": [
        "List of modules needed to download for the Program to function"
      ],
      "metadata": {
        "id": "KgSbw5gGl9Np"
      }
    },
    {
      "cell_type": "code",
      "source": [
        "absl-py==2.1.0\n",
        "astunparse==1.6.3\n",
        "certifi==2024.2.2\n",
        "charset-normalizer==3.3.2\n",
        "flatbuffers==24.3.25\n",
        "gast==0.5.4\n",
        "google-pasta==0.2.0\n",
        "grpcio==1.62.1\n",
        "h5py==3.11.0\n",
        "idna==3.7\n",
        "joblib==1.4.0\n",
        "keras==3.2.1\n",
        "libclang==18.1.1\n",
        "Markdown==3.6\n",
        "markdown-it-py==3.0.0\n",
        "MarkupSafe==2.1.5\n",
        "mdurl==0.1.2\n",
        "ml-dtypes==0.3.2\n",
        "namex==0.0.8\n",
        "numpy==1.26.4\n",
        "opt-einsum==3.3.0\n",
        "optree==0.11.0\n",
        "packaging==24.0\n",
        "pandas==2.2.2\n",
        "pillow==10.3.0\n",
        "protobuf==4.25.3\n",
        "Pygments==2.17.2\n",
        "python-dateutil==2.9.0.post0\n",
        "pytz==2024.1\n",
        "rdkit==2023.9.5\n",
        "requests==2.31.0\n",
        "rich==13.7.1\n",
        "scikit-learn==1.4.2\n",
        "scipy==1.13.0\n",
        "six==1.16.0\n",
        "tensorboard==2.16.2\n",
        "tensorboard-data-server==0.7.2\n",
        "tensorflow==2.16.1\n",
        "tensorflow-io-gcs-filesystem==0.36.0\n",
        "termcolor==2.4.0\n",
        "threadpoolctl==3.4.0\n",
        "typing_extensions==4.11.0\n",
        "tzdata==2024.1\n",
        "urllib3==2.2.1\n",
        "Werkzeug==3.0.2\n",
        "wrapt==1.16.0\n"
      ],
      "metadata": {
        "id": "o0E0OKkSmB1c"
      },
      "execution_count": null,
      "outputs": []
    }
  ]
}