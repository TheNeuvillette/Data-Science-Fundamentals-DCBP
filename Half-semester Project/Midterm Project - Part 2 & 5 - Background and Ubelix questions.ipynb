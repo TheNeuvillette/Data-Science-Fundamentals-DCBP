{
  "nbformat": 4,
  "nbformat_minor": 0,
  "metadata": {
    "colab": {
      "provenance": [],
      "include_colab_link": true
    },
    "kernelspec": {
      "name": "python3",
      "display_name": "Python 3"
    },
    "language_info": {
      "name": "python"
    }
  },
  "cells": [
    {
      "cell_type": "markdown",
      "metadata": {
        "id": "view-in-github",
        "colab_type": "text"
      },
      "source": [
        "<a href=\"https://colab.research.google.com/github/TheNeuvillette/Data-Science-Fundamentals-DCBP/blob/main/Half-semester%20Project/Midterm%20Project%20-%20Part%202%20%26%205%20-%20Background%20and%20Ubelix%20questions.ipynb\" target=\"_parent\"><img src=\"https://colab.research.google.com/assets/colab-badge.svg\" alt=\"Open In Colab\"/></a>"
      ]
    },
    {
      "cell_type": "markdown",
      "source": [
        "# Mid-term project - Part 2: Background questions\n",
        "## 2.1 Which packages are available for ML? Describe the pros and cons and document the availability.\n",
        "* TensorFlow (deep learning with neural networks)\n",
        "  + Open Source\n",
        "  + good data visualization\n",
        "  + slow\n",
        "\n",
        "* scikit-learn (machine learning algorithms)\n",
        "  + easy to use\n",
        "  + not best choice for in-depth learning\n",
        "\n",
        "* theano (deep learning with neural networks)\n",
        " + flexible\n",
        " + is not longer maintained\n",
        "* keras (deep neural networks API)\n",
        " + user friendly, intuitive\n",
        " + less flexible\n",
        "\n",
        "## 2.2 What is Chembl? How do you access it?\n",
        "It is a website which provides Information about bioactive molecules. It is acessible online.\n",
        "\n",
        "## 2.3 What is machine learning, and how does it differ from traditional programming?\n",
        "Machine learning means that a computer system is able to learn without explicit instructions.\n",
        "Traditionell programming needs to provide every single step, which the computer can follow. ML can learn from previous things.\n",
        "\n",
        "## 2.4 What are key concepts and techniques in ML?\n",
        "Supervised, semi-supervised, unsupervised and Reinforcement learning.\n",
        "\n",
        "## 2.5 What are the different types of ML algorithms?\n",
        "There are 4 types: supervised, semi-supervised, unsupervised and reinforced\n",
        "\n",
        "## 2.6 What are the common applications of ML?\n",
        "Image recognition, speech recognition, traffic prediction and product recommendations\n",
        "\n",
        "## 2.7 How do you evaluate the performance of a ML model?\n",
        "The Dataset used for training the ML model can be devided in training and test Data. The Model is only trained with the training data. The test data is used to see, if the model works they way we want it to work.This can be evaluated by comparison oft he known results with the prediction oft he ML model.\n",
        "\n",
        "## 2.8 How do you prepare data for use in a ML model?\n",
        "The data must be in a suitable form, this can be in a CSV file. There should be no missing data. Only the necessary Data schould be in the Dataset. All uncessesary information should be removed from the dataset.\n",
        "\n",
        "## 2.9 What are some common challenges in ML, and how can they be adressed?\n",
        "There is not enough training Data, or the training Data is not accurate enough, which leads to false predictions( Noisy or Incorrect Data). The data must be representative.\n",
        "Under oder Overfitting\n",
        "\n",
        "## 2.10 What are some resources and tools available to help you learn and practice ML?\n",
        "* Books like \"Hands-On Machine Learning with Scikit-Learn, Keras, and TensorFlow\" by Geron Aurelien\n",
        "* Websites with forums and online courses like Coursera or Kaggle\n",
        "\n"
      ],
      "metadata": {
        "id": "nZ8AYLaJQhzb"
      }
    },
    {
      "cell_type": "markdown",
      "source": [
        "# Mid-term project - Part 5: Ubelix questions\n",
        "\n",
        "## 5.1.What is Ubelix?\n",
        "\n",
        "Ubelix stands for \"University of Bern Linux CLuster\". It is the high performance compunting cluster of UniBe. It is a Linux Cluster.\n",
        "\n",
        "## 5.2. How do you gain access?\n",
        "\n",
        "The campus account must be activated by the Ubelix team.\n",
        "Members of the University of Berne can request acces, if they have a campus account. The request for activation can be submitted on the service desk (via https://serviceportal.unibe.ch/hpc) including:\n",
        "username of Campus account and a brief description of what you want to use the cluster for.\n",
        "External coworkers can request acces. This must be arranged by the responsible account manager at the institute.\n",
        "\n",
        "## 5.3. How do you submit a job?\n",
        "The login to the cluster is only possible using the uni network and a secure shell(SSH):\n",
        "\n"
      ],
      "metadata": {
        "id": "XLMSYiNUQ_Ru"
      }
    },
    {
      "cell_type": "code",
      "source": [
        "$ ssh <user>@submit03.unibe.ch"
      ],
      "metadata": {
        "id": "-k-RyDWfSKZY"
      },
      "execution_count": null,
      "outputs": []
    },
    {
      "cell_type": "markdown",
      "source": [
        "If you need to copy files between your local computer and the cluster, you can use scp:\n"
      ],
      "metadata": {
        "id": "bvQF3QllSPbA"
      }
    },
    {
      "cell_type": "code",
      "source": [
        "scp /path/to/file <user>@submit03.unibe.ch:/path/to/target_dir/\n"
      ],
      "metadata": {
        "id": "tuCMCDAQSdJe"
      },
      "execution_count": null,
      "outputs": []
    },
    {
      "cell_type": "markdown",
      "source": [
        "you can use pre-installed software\n",
        "\n",
        "TO submit a job, you need to give instructions to the scheduler in form of flags and statements describing the task.\n"
      ],
      "metadata": {
        "id": "OQ1YMb51ScZo"
      }
    },
    {
      "cell_type": "code",
      "source": [
        "#!/bin/bash\n",
        "#SBATCH --ntasks=1\n",
        "#SBATCH --cpus-per-task=1\n",
        "#SBATCH --mem-per-cpu=1GB\n",
        "\n",
        "# Put your code below this line\n",
        "..."
      ],
      "metadata": {
        "id": "yQ2YsX2VRYI7"
      },
      "execution_count": null,
      "outputs": []
    },
    {
      "cell_type": "markdown",
      "source": [
        "The job is submitted with the sbatch command:"
      ],
      "metadata": {
        "id": "mBXGR0_qRfwA"
      }
    },
    {
      "cell_type": "code",
      "source": [
        "sbatch first.sh"
      ],
      "metadata": {
        "id": "5kFyL1C4Ron0"
      },
      "execution_count": null,
      "outputs": []
    },
    {
      "cell_type": "markdown",
      "source": [
        "## 5.4. Who can have access?\n",
        "It is available for all personell oft he University for their scientific work. Students can have access if they need it for a coure or a thesis. External Collaborators can also have access.\n",
        "\n",
        "## 5.5. What resources are available there?\n",
        "UBELIX consists of 320 compute nodes featuring 12k CPU cores and 160 GPUs. It provides a storage infrastructure providing 3.5 PB of disk storage net."
      ],
      "metadata": {
        "id": "O7T3T5i_RISy"
      }
    }
  ]
}