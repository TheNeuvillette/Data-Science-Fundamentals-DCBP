{
  "nbformat": 4,
  "nbformat_minor": 0,
  "metadata": {
    "colab": {
      "name": "CodingTask1.ipynb",
      "provenance": [],
      "include_colab_link": true
    },
    "kernelspec": {
      "name": "python3",
      "display_name": "Python 3"
    },
    "language_info": {
      "name": "python"
    }
  },
  "cells": [
    {
      "cell_type": "markdown",
      "metadata": {
        "id": "view-in-github",
        "colab_type": "text"
      },
      "source": [
        "<a href=\"https://colab.research.google.com/github/TheNeuvillette/Data-Science-Fundamentals-DCBP/blob/main/Half-semester%20Project/Midterm%20Project%20-%20Part%206%2C%207%20%26%208%20-%20Ubelix.ipynb\" target=\"_parent\"><img src=\"https://colab.research.google.com/assets/colab-badge.svg\" alt=\"Open In Colab\"/></a>"
      ]
    },
    {
      "cell_type": "markdown",
      "source": [
        "#Mid-term project - Part 6, 7 & 8: Training on Ubelix"
      ],
      "metadata": {
        "id": "uMiNEBDvl4bC"
      }
    },
    {
      "cell_type": "markdown",
      "source": [
        "## Pre-Ubelix Part (Run on own desktop):"
      ],
      "metadata": {
        "id": "HoIOj9qaxYqy"
      }
    },
    {
      "cell_type": "markdown",
      "source": [
        "In order for the tutorial code to be performed on Ubelix, the following thing must be done on the local desktop:"
      ],
      "metadata": {
        "id": "xi-ZVKj6xiNA"
      }
    },
    {
      "cell_type": "markdown",
      "source": [
        "# Adapt code for Ubelix:\n",
        "  1. Remove the \"%matplotlib inline\", as the program produces an error when run.\n",
        "  2. When saving the trained model, the filepath\n",
        "  ```\n",
        " filepath = DATA / \"best_weights.hdf5\"\n",
        "  ```\n",
        "  must be changed to\n",
        "```\n",
        " filepath = DATA / \"best_weights.weights.h5\"\n",
        "```\n",
        "to function.\n",
        "\n",
        "  3. Since only the training step of the ANN training must be done on Ubelix, the code must be shortened.\n",
        "\n",
        "  The final code is located under the following link: [ANN code for Ubelix](https://github.com/TheNeuvillette/Data-Science-Fundamentals-DCBP/blob/main/Half-semester%20Project/Midterm%20Project%20-%20Part%206%20%26%207%20-%20Job.py%20file%20-%20ANN%20code%20for%20Ubelix.ipynb)"
      ],
      "metadata": {
        "id": "GjBVubk7IYMf"
      }
    },
    {
      "cell_type": "markdown",
      "source": [
        "# Create a Requirement.txt in order to run the correct packages on Ubelix.\n",
        "  1. Install Windows Subsystem for Linux on Windows PC. Download and install Python and VSC onto the PC.\n",
        "  2. Open Visual Studio Code (VSC) and install the Windows Subsystem for Linux extention. This allows the VSC terminal to be run on Linux/Ubuntu.\n",
        "  3. Open Ubuntu and go to the folder with your adapted Python script.\n",
        "```\n",
        "cd /mnt/c\n",
        "```\n",
        "  4. Open VSC via Ubuntu using the code below. This will open VSC in a Linux environment, allowing to use the Linux commands in the VSC terminal.\n",
        "```\n",
        ". code\n",
        "```  \n",
        "  5. Create a virtual environment and activate it using the code below.\n",
        "```\n",
        "# Create virtual environment\n",
        "python -m venv myenv\n",
        "# Activate virtual environment\n",
        "source myenv/bin/activate\n",
        "```  \n",
        "  6. Install the required packages in the virtual environment (It takes some time).\n",
        "```\n",
        "pip install pandas numpy rdkit scikit-learn tensorflow\n",
        "```  \n",
        "  7. Create the requirements file\n",
        "```  \n",
        "pip freeze > requirements.txt\n",
        "```  \n",
        "\n",
        "  Instructions to create the Requirement.txt from the following [website.](https://www.freecodecamp.org/news/python-requirementstxt-explained/)"
      ],
      "metadata": {
        "id": "sS5_RcecIfDR"
      }
    },
    {
      "cell_type": "markdown",
      "source": [
        "## Ubelix Part:"
      ],
      "metadata": {
        "id": "h10rNDHgG7RM"
      }
    },
    {
      "cell_type": "markdown",
      "source": [
        "1. Log into Ubelix"
      ],
      "metadata": {
        "id": "KgSbw5gGl9Np"
      }
    },
    {
      "cell_type": "code",
      "source": [
        "ssh <user>@submit03.unibe.ch"
      ],
      "metadata": {
        "id": "o0E0OKkSmB1c"
      },
      "execution_count": null,
      "outputs": []
    },
    {
      "cell_type": "markdown",
      "source": [
        "2. Create directories for the project once on Ubelix."
      ],
      "metadata": {
        "id": "3KhaDEUzmLUQ"
      }
    },
    {
      "cell_type": "code",
      "source": [
        "mkdir DSF\n",
        "cd DSF\n",
        "mkdir MidtermProject\n",
        "cd MidtermProject"
      ],
      "metadata": {
        "id": "kAIPfmfVmIQt"
      },
      "execution_count": null,
      "outputs": []
    },
    {
      "cell_type": "markdown",
      "source": [
        "3. Install correct modules to create a virtual environment. Then install the virtual environment."
      ],
      "metadata": {
        "id": "75YSHCMYmhsi"
      }
    },
    {
      "cell_type": "code",
      "source": [
        "# Install Python via Anaconda3\n",
        "module load Anaconda3\n",
        "conda list\n",
        "\n",
        "# Create virtual environment\n",
        "python -m venv myenv\n",
        "\n",
        "# Activate virtual environment\n",
        "source myenv/bin/activate\n"
      ],
      "metadata": {
        "id": "TdMSaRxInMqS"
      },
      "execution_count": null,
      "outputs": []
    },
    {
      "cell_type": "markdown",
      "source": [
        "4. Create requirements.txt file using nano. The contents of requirements.txt are copied over from the desktop requirements.txt via Ctrl-C Ctrl-V. The modules are then installed in the virtual environment."
      ],
      "metadata": {
        "id": "4_tMcMvvITUD"
      }
    },
    {
      "cell_type": "code",
      "source": [
        "# Create Requirements.txt\n",
        "nano requirements.txt\n",
        "\n",
        "#Install modules needed for the project\n",
        "pip install -r requirements.txt"
      ],
      "metadata": {
        "id": "oLphxCUnIVXx"
      },
      "execution_count": null,
      "outputs": []
    },
    {
      "cell_type": "markdown",
      "source": [
        "5. Create job.py file using nano. Job.py contains the adapted python script for the ANN training. The contents of Job.py are copied over from the desktop Job.py via Ctrl-C Ctrl-V."
      ],
      "metadata": {
        "id": "6Uay1xbxnMMA"
      }
    },
    {
      "cell_type": "code",
      "source": [
        "nano job.py"
      ],
      "metadata": {
        "id": "G1WwsljB9KnU"
      },
      "execution_count": null,
      "outputs": []
    },
    {
      "cell_type": "markdown",
      "source": [
        "6. Create submission_script.sh using nano. The following code contains the contents of the script."
      ],
      "metadata": {
        "id": "WLuKeuvJ_hp2"
      }
    },
    {
      "cell_type": "code",
      "source": [
        "#!/bin/bash\n",
        "\n",
        "#SBATCH --job-name=\"ANN_training_V1\"\n",
        "#SBATCH --time=01:00:00\n",
        "#SBATCH --mem-per-cpu=5GB\n",
        "\n",
        "module load Anaconda3\n",
        "source ~/DSF/MidtermProject/myenv/bin/activate\n",
        "\n",
        "srun python3 job.py"
      ],
      "metadata": {
        "id": "FmYh15yc-Hyd"
      },
      "execution_count": null,
      "outputs": []
    },
    {
      "cell_type": "markdown",
      "source": [
        "7. Submit the job and drink a coffee in the meantime."
      ],
      "metadata": {
        "id": "hX8XBWAa_fvV"
      }
    },
    {
      "cell_type": "code",
      "source": [
        "sbatch submission_script.sh\n",
        "\n",
        "# Check status:\n",
        "squeue --user=Username"
      ],
      "metadata": {
        "id": "oXRSKvdtARmW"
      },
      "execution_count": null,
      "outputs": []
    }
  ]
}