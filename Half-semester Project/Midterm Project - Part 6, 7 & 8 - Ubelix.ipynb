{
  "nbformat": 4,
  "nbformat_minor": 0,
  "metadata": {
    "colab": {
      "name": "CodingTask1.ipynb",
      "provenance": [],
      "include_colab_link": true
    },
    "kernelspec": {
      "name": "python3",
      "display_name": "Python 3"
    },
    "language_info": {
      "name": "python"
    }
  },
  "cells": [
    {
      "cell_type": "markdown",
      "metadata": {
        "id": "view-in-github",
        "colab_type": "text"
      },
      "source": [
        "<a href=\"https://colab.research.google.com/github/TheNeuvillette/Data-Science-Fundamentals-DCBP/blob/main/Half-semester%20Project/Midterm%20Project%20-%20Part%206%2C%207%20%26%208%20-%20Ubelix.ipynb\" target=\"_parent\"><img src=\"https://colab.research.google.com/assets/colab-badge.svg\" alt=\"Open In Colab\"/></a>"
      ]
    },
    {
      "cell_type": "markdown",
      "source": [
        "#Mid-term project - Part 6, 7 & 8: Training on Ubelix"
      ],
      "metadata": {
        "id": "uMiNEBDvl4bC"
      }
    },
    {
      "cell_type": "markdown",
      "source": [
        "1. Log into Ubelix"
      ],
      "metadata": {
        "id": "KgSbw5gGl9Np"
      }
    },
    {
      "cell_type": "code",
      "source": [
        "ssh <user>@submit03.unibe.ch"
      ],
      "metadata": {
        "id": "o0E0OKkSmB1c"
      },
      "execution_count": null,
      "outputs": []
    },
    {
      "cell_type": "markdown",
      "source": [
        "2. Create directories for the project once on Ubelix."
      ],
      "metadata": {
        "id": "3KhaDEUzmLUQ"
      }
    },
    {
      "cell_type": "code",
      "source": [
        "mkdir DSF\n",
        "cd DSF\n",
        "mkdir MidtermProject\n",
        "cd MidtermProject"
      ],
      "metadata": {
        "id": "kAIPfmfVmIQt"
      },
      "execution_count": null,
      "outputs": []
    },
    {
      "cell_type": "markdown",
      "source": [
        "3. Install correct modules to create a virtual environment. Then install the virtual environment."
      ],
      "metadata": {
        "id": "75YSHCMYmhsi"
      }
    },
    {
      "cell_type": "code",
      "source": [
        "# Install Python via Anaconda3\n",
        "module load Anaconda3\n",
        "conda list\n",
        "\n",
        "# Create virtual environment\n",
        "python -m venv myenv\n",
        "\n",
        "# Activate virtual environment\n",
        "source myenv/bin/activate\n",
        "\n",
        "#Install modules needed for the project\n",
        "pip install -r requirements.txt"
      ],
      "metadata": {
        "id": "TdMSaRxInMqS"
      },
      "execution_count": null,
      "outputs": []
    },
    {
      "cell_type": "markdown",
      "source": [
        "4. Create job.py file using nano. Job.py contains the adapted python script for the ANN training."
      ],
      "metadata": {
        "id": "6Uay1xbxnMMA"
      }
    },
    {
      "cell_type": "code",
      "source": [
        "nano job.py"
      ],
      "metadata": {
        "id": "G1WwsljB9KnU"
      },
      "execution_count": null,
      "outputs": []
    },
    {
      "cell_type": "markdown",
      "source": [
        "5. Create submission_script.sh using nano. The following code contains the contents of the script."
      ],
      "metadata": {
        "id": "WLuKeuvJ_hp2"
      }
    },
    {
      "cell_type": "code",
      "source": [
        "#!/bin/bash\n",
        "\n",
        "#SBATCH --job-name=\"ANN_training_V1\"\n",
        "#SBATCH --time=01:00:00\n",
        "#SBATCH --mem-per-cpu=5GB\n",
        "\n",
        "module load Anaconda3\n",
        "source ~/DSF/MidtermProject/myenv/bin/activate\n",
        "\n",
        "srun python3 job.py"
      ],
      "metadata": {
        "id": "FmYh15yc-Hyd"
      },
      "execution_count": null,
      "outputs": []
    },
    {
      "cell_type": "markdown",
      "source": [
        "6. Submit the job and drink a coffee in the meantime."
      ],
      "metadata": {
        "id": "hX8XBWAa_fvV"
      }
    },
    {
      "cell_type": "code",
      "source": [
        "sbatch submission_script.sh\n",
        "\n",
        "# Check status:\n",
        "squeue --user=Username"
      ],
      "metadata": {
        "id": "oXRSKvdtARmW"
      },
      "execution_count": null,
      "outputs": []
    }
  ]
}