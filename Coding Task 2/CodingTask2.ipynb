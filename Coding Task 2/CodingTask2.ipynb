{
  "nbformat": 4,
  "nbformat_minor": 0,
  "metadata": {
    "colab": {
      "name": "CodingTask2.ipynb",
      "provenance": [],
      "include_colab_link": true
    },
    "kernelspec": {
      "name": "python3",
      "display_name": "Python 3"
    },
    "language_info": {
      "name": "python"
    }
  },
  "cells": [
    {
      "cell_type": "markdown",
      "metadata": {
        "id": "view-in-github",
        "colab_type": "text"
      },
      "source": [
        "<a href=\"https://colab.research.google.com/github/TheNeuvillette/Data-Science-Fundamentals-DCBP/blob/main/Coding%20Task%202/CodingTask2.ipynb\" target=\"_parent\"><img src=\"https://colab.research.google.com/assets/colab-badge.svg\" alt=\"Open In Colab\"/></a>"
      ]
    },
    {
      "cell_type": "markdown",
      "source": [
        "Data Science Fundamentals - DCBP, solved by TheNeuvilette"
      ],
      "metadata": {
        "id": "_-1mhuoK6uqC"
      }
    },
    {
      "cell_type": "markdown",
      "source": [
        "#Task summary (maximum 12.5 points)"
      ],
      "metadata": {
        "id": "BtwBgkNdQerf"
      }
    },
    {
      "cell_type": "markdown",
      "source": [
        "- **CT-2.1** Upload the 15 images to a folder on your google drive. Write a function which retrieves the filenames of the images, contains a loop converting them to png images and saves them. [about 1 hour] [max 3 points]\n",
        "- **CT-2.2** With some filtering and thresholding, write a function which converts the colored bins into nice white segments on a black background for one image. [about 1 hour][max 3 points]\n",
        "- **CT-2.3** Write an algorithm which counts the number of bins. First approach could be a \"sliding window\" algorithm, i.e a loop sliding over the image and counting regions with substantial white content. There may also be nice segmentation tools out \"there\" already. You may google. [about 4 hours][max 3 points]\n",
        "- **CT-2.4** Write an algorithm which does the latter task on all images. As the images are quite different, this is a large task which goes beyond the time budget of this exercise, however, you can give it a try. If it works out for a couple of images, that is already good. [from 4 to 50 hours][max 3.5 points]"
      ],
      "metadata": {
        "id": "rXqhhPMu9aPx"
      }
    },
    {
      "cell_type": "markdown",
      "source": [
        "**Pre-CT:** Preinstall libraries not included in google colab"
      ],
      "metadata": {
        "id": "t2RndWcESXF-"
      }
    },
    {
      "cell_type": "code",
      "source": [
        "!pip install heic2png"
      ],
      "metadata": {
        "id": "FEu-amYhSWgX"
      },
      "execution_count": null,
      "outputs": []
    },
    {
      "cell_type": "markdown",
      "source": [
        "**Pre-CT:** Activating all libraries needed during the coding task."
      ],
      "metadata": {
        "id": "eChGz8tkRQFu"
      }
    },
    {
      "cell_type": "code",
      "source": [
        "import os\n",
        "from PIL import Image\n",
        "\n",
        "import numpy as np\n",
        "import matplotlib.pyplot as plt\n",
        "import skimage.io as io\n",
        "import skimage.filters as skf\n",
        "import skimage.morphology as skm\n",
        "from PIL import Image\n",
        "from heic2png import HEIC2PNG"
      ],
      "metadata": {
        "id": "Vl8I2aWSRPP7"
      },
      "execution_count": null,
      "outputs": []
    },
    {
      "cell_type": "markdown",
      "source": [
        "**Pre-CT:** Installing Google Colab."
      ],
      "metadata": {
        "id": "_jj5pAjPRyMG"
      }
    },
    {
      "cell_type": "code",
      "source": [
        "from google.colab import drive\n",
        "drive.mount('/content/drive')"
      ],
      "metadata": {
        "id": "WZsG5OT-Rx2R"
      },
      "execution_count": null,
      "outputs": []
    },
    {
      "cell_type": "markdown",
      "source": [
        "**Pre-CT:** Set path variable."
      ],
      "metadata": {
        "id": "y4mQuYnJW7ur"
      }
    },
    {
      "cell_type": "code",
      "source": [
        "folder_path = '/content/drive/MyDrive/Courses/DSF-DCBP/Data-Images/'"
      ],
      "metadata": {
        "id": "SF1-zKzHW86y"
      },
      "execution_count": null,
      "outputs": []
    },
    {
      "cell_type": "markdown",
      "source": [
        "**CT-2.1** Upload the 15 images to a folder on your google drive. Write a function which retrieves the filenames of the images, contains a loop converting them to png images and saves them. [about 1 hour] [max 3 points]"
      ],
      "metadata": {
        "id": "JYezPkiVRV7U"
      }
    },
    {
      "cell_type": "code",
      "source": [
        "\"\"\"\n",
        "for image in folder:\n",
        "    heic_img = HEIC2PNG('/content/drive/MyDrive/Courses/DSF-DCBP/Data-Images/IMG_5379.HEIC')\n",
        "    heic_img.save()\n",
        "\"\"\"\n",
        "\n",
        "\n",
        "def convert_images_to_png(folder_path):\n",
        "    # Get a list of all files in the specified folder\n",
        "    file_list = os.listdir(folder_path)\n",
        "\n",
        "    # Create a new folder to save the PNG images\n",
        "    png_folder = os.path.join(folder_path, \"png_images\")\n",
        "    os.makedirs(png_folder, exist_ok=True)\n",
        "\n",
        "    for filename in file_list:\n",
        "        if filename.lower().endswith((\".jpg\", \".jpeg\", \".png\")):\n",
        "            # Open the image\n",
        "            image_path = os.path.join(folder_path, filename)\n",
        "            img = Image.open(image_path)\n",
        "\n",
        "            # Convert to PNG format\n",
        "            png_filename = os.path.splitext(filename)[0] + \".png\"\n",
        "            png_path = os.path.join(png_folder, png_filename)\n",
        "            img.save(png_path, format=\"PNG\")\n",
        "\n",
        "    return png_folder\n",
        "\n",
        "# Example usage:\n",
        "png_folder_path = convert_images_to_png(folder_path)\n",
        "print(f\"PNG images saved in: {png_folder_path}\")\n"
      ],
      "metadata": {
        "id": "PyWzQz7_RVTM"
      },
      "execution_count": null,
      "outputs": []
    }
  ]
}