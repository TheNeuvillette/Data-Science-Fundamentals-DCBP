{
  "nbformat": 4,
  "nbformat_minor": 0,
  "metadata": {
    "colab": {
      "name": "CodingTask2.ipynb",
      "provenance": [],
      "include_colab_link": true
    },
    "kernelspec": {
      "name": "python3",
      "display_name": "Python 3"
    },
    "language_info": {
      "name": "python"
    }
  },
  "cells": [
    {
      "cell_type": "markdown",
      "metadata": {
        "id": "view-in-github",
        "colab_type": "text"
      },
      "source": [
        "<a href=\"https://colab.research.google.com/github/TheNeuvillette/Data-Science-Fundamentals-DCBP/blob/main/Coding%20Task%202/CodingTask2.ipynb\" target=\"_parent\"><img src=\"https://colab.research.google.com/assets/colab-badge.svg\" alt=\"Open In Colab\"/></a>"
      ]
    },
    {
      "cell_type": "markdown",
      "source": [
        "Data Science Fundamentals - DCBP, solved by TheNeuvilette\n",
        "\n",
        "Disclaimer: CT-2.3 was done with the help of GitHub user \"Orsli\". The code originally stems from them, but was adapted.\n",
        "\n",
        "CT-2.4 was tried, yet the code didn't properly function."
      ],
      "metadata": {
        "id": "_-1mhuoK6uqC"
      }
    },
    {
      "cell_type": "markdown",
      "source": [
        "#Task summary (maximum 12.5 points)"
      ],
      "metadata": {
        "id": "BtwBgkNdQerf"
      }
    },
    {
      "cell_type": "markdown",
      "source": [
        "- **CT-2.1** Upload the 15 images to a folder on your google drive. Write a function which retrieves the filenames of the images, contains a loop converting them to png images and saves them. [about 1 hour] [max 3 points]\n",
        "- **CT-2.2** With some filtering and thresholding, write a function which converts the colored bins into nice white segments on a black background for one image. [about 1 hour][max 3 points]\n",
        "- **CT-2.3** Write an algorithm which counts the number of bins. First approach could be a \"sliding window\" algorithm, i.e a loop sliding over the image and counting regions with substantial white content. There may also be nice segmentation tools out \"there\" already. You may google. [about 4 hours][max 3 points]\n",
        "- **CT-2.4** Write an algorithm which does the latter task on all images. As the images are quite different, this is a large task which goes beyond the time budget of this exercise, however, you can give it a try. If it works out for a couple of images, that is already good. [from 4 to 50 hours][max 3.5 points]"
      ],
      "metadata": {
        "id": "rXqhhPMu9aPx"
      }
    },
    {
      "cell_type": "markdown",
      "source": [
        "**Pre-CT:** Preinstall libraries not included in google colab"
      ],
      "metadata": {
        "id": "t2RndWcESXF-"
      }
    },
    {
      "cell_type": "code",
      "source": [
        "!pip install heic2png"
      ],
      "metadata": {
        "id": "FEu-amYhSWgX"
      },
      "execution_count": null,
      "outputs": []
    },
    {
      "cell_type": "markdown",
      "source": [
        "**Pre-CT:** Activating all libraries needed during the coding task."
      ],
      "metadata": {
        "id": "eChGz8tkRQFu"
      }
    },
    {
      "cell_type": "code",
      "source": [
        "import os\n",
        "from heic2png import HEIC2PNG\n",
        "\n",
        "import matplotlib.pyplot as plt\n",
        "import skimage.io as io\n",
        "import skimage.filters as skf\n",
        "import skimage.morphology as skm\n",
        "\n",
        "import matplotlib\n",
        "from PIL import Image, ImageDraw, ImageFont"
      ],
      "metadata": {
        "id": "Vl8I2aWSRPP7"
      },
      "execution_count": null,
      "outputs": []
    },
    {
      "cell_type": "markdown",
      "source": [
        "**Pre-CT:** Installing Google Colab."
      ],
      "metadata": {
        "id": "_jj5pAjPRyMG"
      }
    },
    {
      "cell_type": "code",
      "source": [
        "from google.colab import drive\n",
        "drive.mount('/content/drive')"
      ],
      "metadata": {
        "id": "WZsG5OT-Rx2R"
      },
      "execution_count": null,
      "outputs": []
    },
    {
      "cell_type": "markdown",
      "source": [
        "**Pre-CT:** Set path variable."
      ],
      "metadata": {
        "id": "y4mQuYnJW7ur"
      }
    },
    {
      "cell_type": "code",
      "source": [
        "folder_path = '/content/drive/MyDrive/Courses/DSF-DCBP/Data-Images/'"
      ],
      "metadata": {
        "id": "SF1-zKzHW86y"
      },
      "execution_count": null,
      "outputs": []
    },
    {
      "cell_type": "markdown",
      "source": [
        "**CT-2.1** Upload the 15 images to a folder on your google drive. Write a function which retrieves the filenames of the images, contains a loop converting them to png images and saves them. [about 1 hour] [max 3 points]"
      ],
      "metadata": {
        "id": "JYezPkiVRV7U"
      }
    },
    {
      "cell_type": "code",
      "source": [
        "# Get a list of all files in the specified folder\n",
        "file_list = os.listdir(folder_path)\n",
        "file_list"
      ],
      "metadata": {
        "id": "Bn6bxeq4094Y"
      },
      "execution_count": null,
      "outputs": []
    },
    {
      "cell_type": "code",
      "source": [
        "# Create a new folder to save the PNG images\n",
        "png_folder = os.path.join(folder_path, \"png_images\")\n",
        "os.makedirs(png_folder, exist_ok=True)"
      ],
      "metadata": {
        "id": "BTFFSnbH1Eje"
      },
      "execution_count": null,
      "outputs": []
    },
    {
      "cell_type": "code",
      "source": [
        "# Funtion coverting all HEIC images into PNG images.\n",
        "\n",
        "def convert_images_to_png(folder_path):\n",
        "    for filename in file_list:\n",
        "        image_path = os.path.join(folder_path, filename)\n",
        "        heic_img = HEIC2PNG(image_path)\n",
        "        png_filename = os.path.splitext(filename)[0] + \".png\"\n",
        "        png_path = os.path.join(png_folder, png_filename)\n",
        "        heic_img.save(png_path)\n",
        "\n",
        "    return\n",
        "\n",
        "# Converting and saving all images from HEIC to PNG:\n",
        "png_folder_path = convert_images_to_png(folder_path)\n",
        "print(\"PNG images saved!\")"
      ],
      "metadata": {
        "id": "ZTusO98H1Hdb"
      },
      "execution_count": null,
      "outputs": []
    },
    {
      "cell_type": "markdown",
      "source": [
        "**CT-2.2** With some filtering and thresholding, write a function which converts the colored bins into nice white segments on a black background for one image. [about 1 hour][max 3 points]"
      ],
      "metadata": {
        "id": "RDYOF1Rn1PLW"
      }
    },
    {
      "cell_type": "code",
      "source": [
        "#Set path to the image.\n",
        "url_pre  = '/content/drive/MyDrive/Courses/DSF-DCBP/Data-Images/png_images/'\n",
        "url_name = 'IMG_5387.png'"
      ],
      "metadata": {
        "id": "kQcaYERX1iVD"
      },
      "execution_count": null,
      "outputs": []
    },
    {
      "cell_type": "code",
      "source": [
        "#Load image and show the B channel only.\n",
        "imageRGB  = io.imread(url_pre+url_name)\n",
        "image = imageRGB[:,:,2]\n",
        "# Cropping to only include lower part.\n",
        "image = image[image.shape[0]//2:image.shape[0],:]\n",
        "plt.imshow(image, cmap ='gray')\n",
        "plt.show()\n",
        "# Filtering to get rid of white specs.\n",
        "image_mean = skf.median(image,footprint=skm.disk(20))\n",
        "plt.imshow(image_mean, cmap ='gray')\n",
        "plt.show()\n",
        "# Thresholding.\n",
        "threshold_manual = 60\n",
        "image_threshold = image_mean < threshold_manual\n",
        "plt.imshow(image_threshold, cmap ='gray')\n",
        "plt.show()"
      ],
      "metadata": {
        "id": "vMWRdlIb_FDD"
      },
      "execution_count": null,
      "outputs": []
    },
    {
      "cell_type": "markdown",
      "source": [
        "**CT-2.3** Write an algorithm which counts the number of bins. First approach could be a \"sliding window\" algorithm, i.e a loop sliding over the image and counting regions with substantial white content. There may also be nice segmentation tools out \"there\" already. You may google. [about 4 hours][max 3 points]"
      ],
      "metadata": {
        "id": "X7xvM1VI_Lct"
      }
    },
    {
      "cell_type": "code",
      "source": [
        "# Making a directory for thresholded images and saving them.\n",
        "matplotlib.image.imsave('image-bw.png', image_threshold)"
      ],
      "metadata": {
        "id": "HN4qdte9_LFx"
      },
      "execution_count": null,
      "outputs": []
    },
    {
      "cell_type": "code",
      "source": [
        "# Function counting the bins.\n",
        "def count_bins(image_path, window_size, threshold):\n",
        "    image = Image.open(image_path)\n",
        "    pixels = image.load()\n",
        "    size = image.size\n",
        "    bin_count = 0\n",
        "    draw = ImageDraw.Draw(image)\n",
        "    font = ImageFont.truetype('LiberationMono-Italic.ttf', 80)\n",
        "\n",
        "    for x in range(0, size[0], window_size):\n",
        "        for y in range(0, size[1], window_size):\n",
        "            if pixels[x, y][1] > threshold:\n",
        "                bin_count += 1\n",
        "                draw.text((x, y), str(bin_count), (0, 0, 0), font=font)\n",
        "    plt.figure(figsize=(10,10))\n",
        "    plt.imshow(image)\n",
        "\n",
        "    return bin_count\n",
        "\n",
        "# Counting the bins:\n",
        "image_path = 'image-bw.png'\n",
        "window_size = 75\n",
        "threshold = 100\n",
        "result = count_bins(image_path, window_size, threshold)\n",
        "print(f\"Counted bins: 44 - Calculated bins: {result}\")\n"
      ],
      "metadata": {
        "id": "ey5QKsj7qIki"
      },
      "execution_count": null,
      "outputs": []
    },
    {
      "cell_type": "markdown",
      "source": [
        "**CT-2.4** Write an algorithm which does the latter task on all images. As the images are quite different, this is a large task which goes beyond the time budget of this exercise, however, you can give it a try. If it works out for a couple of images, that is already good. [from 4 to 50 hours][max 3.5 points]"
      ],
      "metadata": {
        "id": "GfnzAx5gucth"
      }
    },
    {
      "cell_type": "code",
      "source": [
        "# Did not fully work out.\n",
        "\n",
        "# Function counting the bins.\n",
        "\n",
        "window_size = 75\n",
        "threshold = 100\n",
        "\n",
        "def count_bins(image_path, window_size, threshold):\n",
        "    image = Image.open(image_path)\n",
        "    pixels = image.load()\n",
        "    size = image.size\n",
        "    bin_count = 0\n",
        "\n",
        "    for x in range(0, size[0], window_size):\n",
        "        for y in range(0, size[1], window_size):\n",
        "            if pixels[x, y][1] > threshold:\n",
        "                bin_count += 1\n",
        "\n",
        "    return bin_count\n",
        "\n",
        "\n",
        "for filename in file_list:\n",
        "    imageRGB  = io.imread(png_folder+filename)\n",
        "    image = imageRGB[:,:,2]\n",
        "    image = image[image.shape[0]//2:image.shape[0],:]\n",
        "    threshold_manual = 60\n",
        "    image_threshold = image_mean < threshold_manual\n",
        "    matplotlib.image.imsave(filename, image_threshold)\n",
        "    result = count_bins(filename, window_size, threshold)\n",
        "    print(f\"Counted bins: 44 - Calculated bins: {result}\")"
      ],
      "metadata": {
        "id": "jhkdr1yNuma_"
      },
      "execution_count": null,
      "outputs": []
    }
  ]
}