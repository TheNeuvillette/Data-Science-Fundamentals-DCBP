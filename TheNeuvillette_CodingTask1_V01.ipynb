{
  "nbformat": 4,
  "nbformat_minor": 0,
  "metadata": {
    "colab": {
      "name": "CodingTask1.ipynb",
      "provenance": [],
      "include_colab_link": true
    },
    "kernelspec": {
      "name": "python3",
      "display_name": "Python 3"
    },
    "language_info": {
      "name": "python"
    }
  },
  "cells": [
    {
      "cell_type": "markdown",
      "metadata": {
        "id": "view-in-github",
        "colab_type": "text"
      },
      "source": [
        "<a href=\"https://colab.research.google.com/github/TheNeuvillette/Data-Science-Fundamentals-DCBP/blob/main/TheNeuvillette_CodingTask1_V01.ipynb\" target=\"_parent\"><img src=\"https://colab.research.google.com/assets/colab-badge.svg\" alt=\"Open In Colab\"/></a>"
      ]
    },
    {
      "cell_type": "markdown",
      "source": [
        "Data Science Fundamentals for DCBP, by TheNeuvilette"
      ],
      "metadata": {
        "id": "_-1mhuoK6uqC"
      }
    },
    {
      "cell_type": "markdown",
      "source": [
        "## Task summary (maximum 12.5 points)"
      ],
      "metadata": {
        "id": "KYKF2iS56v1z"
      }
    },
    {
      "cell_type": "markdown",
      "source": [
        "- **CT-1.1** Write a method (function) which removes the header information in the\n",
        "datafile and saves that information into a separate textfile. [0.5 points]\n",
        "- **CT-1.2** Write a function which reduces the data resolution by merging/averaging columns such that there is only one column per 1 nm. [2.0 points]  \n",
        "- **CT-1.3** Now generalize the above merging so that it works for any number nm er column. [2.0 points]\n",
        "- **CT-1.4** Implement the saving of the reduced dataset to a file. Do this (1) by writing an explicit loop (write line by line) and (2) by using pandas methods. Measure the running times of the two approaches. [2.0 points]\n",
        "- **CT-1.5** Write a function which takes two wavelengths as input and plots the difference of the data at these lengths over time. [2.0 points]\n",
        "- **CT-1.6** Let the x-axis be in seconds, label the axes with names and units, label the plot with color and legend, make a title for the plot. Save the plot to a file. [2.0 points]\n",
        "- **CT-1.7** Plot the full and some reduced datasets in the same figure. Is there any visual difference? [2.0 points]"
      ],
      "metadata": {
        "id": "rXqhhPMu9aPx"
      }
    },
    {
      "cell_type": "markdown",
      "source": [
        "## Coding Task 1:"
      ],
      "metadata": {
        "id": "gpT2KmBJiUrt"
      }
    },
    {
      "cell_type": "markdown",
      "source": [
        "\n",
        "\n",
        "**Pre-CT:** Activating all libraries needed during the coding task.\n",
        "\n"
      ],
      "metadata": {
        "id": "TqSWYcgwi6hj"
      }
    },
    {
      "cell_type": "code",
      "source": [
        "import pandas as pd\n",
        "import numpy as np\n",
        "import math\n",
        "import matplotlib.pyplot as plt"
      ],
      "metadata": {
        "id": "lNMfQ1E0i6A3"
      },
      "execution_count": null,
      "outputs": []
    },
    {
      "cell_type": "markdown",
      "source": [
        "\n",
        "\n",
        "**Pre-CT:** Installing Google Colab.\n",
        "\n"
      ],
      "metadata": {
        "id": "TRKUEeU2jzpn"
      }
    },
    {
      "cell_type": "code",
      "source": [
        "from google.colab import drive\n",
        "drive.mount('/content/drive')"
      ],
      "metadata": {
        "id": "F3yBRG37j57v"
      },
      "execution_count": null,
      "outputs": []
    },
    {
      "cell_type": "markdown",
      "source": [
        "\n",
        "\n",
        "**Pre-CT:** Defining all links to the used files.\n",
        "\n"
      ],
      "metadata": {
        "id": "kdHFj0tikA8e"
      }
    },
    {
      "cell_type": "code",
      "source": [
        "input_file_path = '/content/drive/MyDrive/Data_Science/CCD-Data.csv'\n",
        "output_file_path = '/content/drive/MyDrive/Data_Science/CCD-Data_without_header.csv'\n",
        "header_file_path = '/content/drive/MyDrive/Data_Science/CCD-Header.txt'\n",
        "file_path_loop = \"/content/drive/MyDrive/Data_Science/Loop_Red_CCD-Data.csv\"\n",
        "file_path_pandas = \"/content/drive/MyDrive/Data_Science/Pandas_Red_CCD-Data.csv\""
      ],
      "metadata": {
        "id": "ET2m8q3ykdJr"
      },
      "execution_count": null,
      "outputs": []
    },
    {
      "cell_type": "markdown",
      "source": [
        "**Pre-CT:** Defining some other universal variables"
      ],
      "metadata": {
        "id": "fSlYcD-CoAIh"
      }
    },
    {
      "cell_type": "code",
      "source": [
        "df = pd.read_csv(input_file_path,delimiter=',')"
      ],
      "metadata": {
        "id": "gQX0qPAFn71o"
      },
      "execution_count": null,
      "outputs": []
    },
    {
      "cell_type": "markdown",
      "source": [
        "*   **CT-1.1**: Write a method (function) which removes the header information in the datafile and saves that information into a separate textfile. [0.5 points]\n",
        "\n"
      ],
      "metadata": {
        "id": "tlyqxgqiidHB"
      }
    },
    {
      "cell_type": "code",
      "source": [
        "#1.1\n",
        "\n",
        "def CCD_remove_header(input_file_path, output_file_path, header_file_path):\n",
        "    \"\"\"\n",
        "    Takes a csv-file (CCD-Data.csv) and creates two new files:\n",
        "    One file containing the header (CCD-Header.txt) and one containing the data (CCD-Data_without_header.csv).\n",
        "    The original csv-file (CCD-Data.csv) is not modified or deleted.\n",
        "\n",
        "    Args:\n",
        "        input_file_path: Path to the csv-file (CCD-Data.csv).\n",
        "        output_file_path: Path of the newly created data-file (CCD-Data_without_header.csv)\n",
        "        header_file_path: Path of the newly created header-file (CCD-Header.txt)\n",
        "    \"\"\"\n",
        "    # Identify CCD header and data.\n",
        "    with open(input_file_path, 'r') as input_file:\n",
        "        lines = input_file.readlines()\n",
        "    header = lines.pop(0)\n",
        "\n",
        "    # Save the CCD data in a new CCD file\n",
        "    with open(output_file_path, 'w') as output_file:\n",
        "        output_file.writelines(lines)\n",
        "\n",
        "    # Save the CCD header to a separate text file\n",
        "    with open(header_file_path, 'w') as header_file:\n",
        "        header_file.write(header)\n",
        "\n",
        "CCD_remove_header(input_file_path, output_file_path, header_file_path)"
      ],
      "metadata": {
        "id": "OfvMackX-SFc"
      },
      "execution_count": null,
      "outputs": []
    },
    {
      "cell_type": "markdown",
      "source": [
        "*   **CT-1.2**: Write a function which reduces the data resolution by merging/averaging columns such that there is only one column per 1 nm. [2.0 points]  \n",
        "\n",
        "\n"
      ],
      "metadata": {
        "id": "cKsOjQm0nFwG"
      }
    },
    {
      "cell_type": "code",
      "source": [
        "#1.2\n",
        "\n",
        "def Reduce_resolution_to_1_nm(df):\n",
        "    \"\"\"\n",
        "    Reduces the data resolution by merging/averaging columns such that there is only one column per 1 nm\n",
        "    Args:\n",
        "        df (pd.DataFrame): Input DataFrame.\n",
        "    Returns:\n",
        "        pd.DataFrame: A new DataFrame containing the averaged values.\n",
        "    \"\"\"\n",
        "\n",
        "    # Select columns from the 4th to the second-to-last column\n",
        "    selected_columns = df.iloc[:, 3:-1]\n",
        "\n",
        "    # Convert column names to integers\n",
        "    new_columns = {col: math.floor(float(col)) for col in selected_columns.columns}\n",
        "    selected_columns = selected_columns.rename(columns=new_columns)\n",
        "\n",
        "    # Calculate mean value for each group of columns with the same integer name\n",
        "    df_red = selected_columns.groupby(selected_columns.columns, axis=1).mean()\n",
        "\n",
        "    return df_red\n",
        "\n",
        "df = pd.read_csv(input_file_path,delimiter=',')\n",
        "df_red = Reduce_resolution_to_1_nm(df)\n",
        "df_red.head()"
      ],
      "metadata": {
        "id": "voc3-07znE0k"
      },
      "execution_count": null,
      "outputs": []
    },
    {
      "cell_type": "markdown",
      "source": [
        "- **CT-1.3**: Now generalize the above merging so that it works for any number nm er column. [2.0 points]"
      ],
      "metadata": {
        "id": "0o--K8KpnOFx"
      }
    },
    {
      "cell_type": "code",
      "source": [
        "#1.3\n",
        "\n",
        "def Reduce_resolution_advanced (df, start_wavelength=316 , nm_steps=1):\n",
        "    \"\"\"\n",
        "    Reduces the data resolution by merging/averaging columns in a user defined way.\n",
        "    Args:\n",
        "        df (pd.DataFrame): Input DataFrame.\n",
        "        start_wavelength: The wavelength at which the columns are merged.\n",
        "        nm_steps: Difference between two concecutive columns.\n",
        "    Returns:\n",
        "        pd.DataFrame: A new DataFrame containing the averaged values.\n",
        "    \"\"\"\n",
        "\n",
        "    # Reduce colums to 1nm (same as the function \"Reduce_resolution_to_1_nm\").\n",
        "    selected_columns = df.iloc[:, 3:-1]\n",
        "    new_columns = {col: math.floor(float(col)) for col in selected_columns.columns}\n",
        "    selected_columns = selected_columns.rename(columns=new_columns)\n",
        "    selected_columns = selected_columns.groupby(selected_columns.columns, axis=1).mean()\n",
        "\n",
        "    # Merge nm_n columns into one column\n",
        "    new_columns = {col: (float(col)-start_wavelength)//nm_steps for col in selected_columns.columns}\n",
        "    selected_columns = selected_columns.rename(columns=new_columns)\n",
        "    selected_columns = selected_columns.groupby(selected_columns.columns,axis=1).mean()\n",
        "\n",
        "    # Fix the column labels\n",
        "    new_columns = {col: int((float(col)*nm_steps+start_wavelength)) for col in selected_columns.columns}\n",
        "    selected_columns = selected_columns.rename(columns=new_columns)\n",
        "    return selected_columns\n",
        "\n",
        "df_red = Reduce_resolution_advanced(df, 317, 3)\n",
        "df_red.head()"
      ],
      "metadata": {
        "id": "Y5ETmC6Oni_W"
      },
      "execution_count": null,
      "outputs": []
    },
    {
      "cell_type": "markdown",
      "source": [
        "*  **CT-1.4**: Implement the saving of the reduced dataset to a file. Do this (1) by writing an explicit loop (write line by line) and (2) by using pandas methods. Measure the running times of the two approaches. [2.0 points]\n"
      ],
      "metadata": {
        "id": "DgYJaPs3otIy"
      }
    },
    {
      "cell_type": "code",
      "source": [
        "\"\"\" Important: To be able to run CT-1.4, CT-1.2 or CT-1.3 had to be run previously.\"\"\"\n",
        "\n",
        "%%time\n",
        "# Method 1: By using explicit loop:\n",
        "with open(file_path_loop, 'w') as file:\n",
        "    for index, row in df_red.iterrows():\n",
        "        file.write(','.join(map(str, row.values)) + '\\n')\n",
        "\n",
        "print(f\"Data saved to {file_path_loop} using explicit loop.\")"
      ],
      "metadata": {
        "id": "a4zqZ_nwozDz"
      },
      "execution_count": null,
      "outputs": []
    },
    {
      "cell_type": "code",
      "source": [
        "%%time\n",
        "# Method 2: By using pandas:\n",
        "import pandas as pd\n",
        "df_red.to_csv(file_path_pandas, index=False)\n",
        "print(f\"Data saved to {file_path_pandas} using Pandas method.\")"
      ],
      "metadata": {
        "id": "HHwqG_G9rhU-"
      },
      "execution_count": null,
      "outputs": []
    },
    {
      "cell_type": "markdown",
      "source": [
        "* **CT-1.5:** Write a function which takes two wavelengths as input and plots the difference of the data at these lengths over time. [2.0 points]"
      ],
      "metadata": {
        "id": "ozkfuRqqo1Na"
      }
    },
    {
      "cell_type": "code",
      "source": [
        "def plot_wavelength_difference(df, a, b):\n",
        "    x = df.iloc[:,0]\n",
        "    y = df.iloc[:,a]-df.iloc[:,b]\n",
        "    plt.plot(x,y)\n",
        "    return\n",
        "\n",
        "plot_wavelength_difference(df, 1000, 1950)"
      ],
      "metadata": {
        "id": "OsuOOpiGr0Gj"
      },
      "execution_count": null,
      "outputs": []
    },
    {
      "cell_type": "markdown",
      "source": [
        "- **CT-1.6:** Let the x-axis be in seconds, label the axes with names and units, label the plot with color and legend, make a title for the plot. Save the plot to a file. [2.0 points]\n"
      ],
      "metadata": {
        "id": "F7l0AaJFr8bn"
      }
    },
    {
      "cell_type": "code",
      "source": [
        "def plot_wavelength_difference_advanced(df, a, b):\n",
        "    x = df.iloc[:,0]\n",
        "    y = df.iloc[:,a]-df.iloc[:,b]\n",
        "    plt.plot(x,y, c=\"g\", label=\"greenline\")\n",
        "    plt.xlabel('Time [s]')\n",
        "    plt.ylabel('Difference of intensity [nm]')\n",
        "    plt.title('Difference of Data at Two Wavelengths Over Time')\n",
        "    plt.grid(True)\n",
        "    plt.legend()\n",
        "    plt.show()\n",
        "    return\n",
        "\n",
        "plot_wavelength_difference_advanced(df, 1000, 1950)"
      ],
      "metadata": {
        "id": "e_No9hf7r4ds"
      },
      "execution_count": null,
      "outputs": []
    },
    {
      "cell_type": "markdown",
      "source": [
        "- **CT-1.7:** Plot the full and some reduced datasets in the same figure. Is there any visual difference? [2.0 points]"
      ],
      "metadata": {
        "id": "1HE8wI8pr_3i"
      }
    }
  ]
}